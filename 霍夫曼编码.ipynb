{
 "cells": [
  {
   "cell_type": "code",
   "execution_count": 1,
   "id": "23ff5aeb",
   "metadata": {},
   "outputs": [],
   "source": [
    "class Node(object):\n",
    "    def __init__(self,name=None,value=None):\n",
    "        self._name=name\n",
    "        self._value=value\n",
    "        self._left=None\n",
    "        self._right=None"
   ]
  },
  {
   "cell_type": "code",
   "execution_count": 2,
   "id": "e2df0f9b",
   "metadata": {},
   "outputs": [],
   "source": [
    "#哈夫曼树类\n",
    "class HuffmanTree(object):\n",
    "\n",
    "    #根据Huffman树的思想：以节点为基础，反向建立Huffman树\n",
    "    def __init__(self,char_weights):\n",
    "        self.Leav=[Node(key, value) for key, value in char_weights.items()]  #根据输入的字符及其频数生成节点\n",
    "        while len(self.Leav)!=1:    \n",
    "            self.Leav.sort(key=lambda node:node._value,reverse=True)\n",
    "            c=Node(value=(self.Leav[-1]._value+self.Leav[-2]._value))\n",
    "            c._left=self.Leav.pop(-1)\n",
    "            c._right=self.Leav.pop(-1)\n",
    "            self.Leav.append(c)\n",
    "        self.root=self.Leav[0]\n",
    "        self.Buffer=list(range(25))\n",
    "        \n",
    "        self.huff_dic = {}\n",
    "        \n",
    "        #生成码表\n",
    "        self.pre(self.root,0)\n",
    "    #用递归的思想生成编码\n",
    "    def pre(self,tree,length):\n",
    "       \n",
    "        node=tree\n",
    "        if (not node):\n",
    "            return\n",
    "        elif node._name:\n",
    "            str_code = ''\n",
    "            for i in range(length):\n",
    "                str_code += str(self.Buffer[i])\n",
    "                #print (self.Buffer[i],end='')\n",
    "            self.huff_dic[node._name] = str_code\n",
    "            #print ('\\n')\n",
    "            return\n",
    "        self.Buffer[length]=0\n",
    "        self.pre(node._left,length+1)\n",
    "        self.Buffer[length]=1\n",
    "        self.pre(node._right,length+1)\n",
    "    \n",
    "    def print_code_list(self, sort=False): #参数sort决定打印码表时是否按码长排序\n",
    "        print('-'*10,'码表','-'*10)\n",
    "        \n",
    "        if sort==True:\n",
    "            self.huff_dic = dict(sorted(self.huff_dic.items(),key=lambda d: len(d[1]), reverse=False))\n",
    "        for key, value in self.huff_dic.items():\n",
    "            print(f'{key}对应码字为:{value}')\n",
    "        print('-'*26,'\\n')\n",
    "        \n"
   ]
  },
  {
   "cell_type": "code",
   "execution_count": 3,
   "id": "01cb3246",
   "metadata": {},
   "outputs": [],
   "source": [
    "def encode(huff_dic, str_in):\n",
    "    str_in_trans = str_in.upper() #小写转大写\n",
    "    str_code = ''\n",
    "    for i in range(len(str_in_trans)):\n",
    "        str_code += huff_dic[str(str_in_trans[i])]\n",
    "    print('输入字符串的编码结果为：')\n",
    "    print(f'{str_in} 被编码成: {str_code}\\n')"
   ]
  },
  {
   "cell_type": "code",
   "execution_count": 4,
   "id": "76e63e5e",
   "metadata": {},
   "outputs": [],
   "source": [
    "def decode_huffman(code_list,  huff_dic):\n",
    "    #input_string 哈夫曼编码\n",
    "    #char_store 字符集合 \n",
    "    #freq_store 字符转编码01序列\n",
    "    char_store = list(huff_dic.keys())\n",
    "    freq_store = list(huff_dic.values())\n",
    "    encode = ''\n",
    "    decode = ''\n",
    "    for index in range(len(code_list)):\n",
    "        encode = encode + code_list[index]\n",
    "        for item in zip(char_store, freq_store):\n",
    "            if encode == item[1]:\n",
    "                decode = decode + item[0]\n",
    "                encode = ''\n",
    "    print(f'输入码序列的译码结果为:{decode}\\n')\n"
   ]
  },
  {
   "cell_type": "code",
   "execution_count": 5,
   "id": "3569f0eb",
   "metadata": {},
   "outputs": [
    {
     "name": "stdout",
     "output_type": "stream",
     "text": [
      "---------- 码表 ----------\n",
      " 对应码字为:00\n",
      "E对应码字为:010\n",
      "R对应码字为:0110\n",
      "I对应码字为:0111\n",
      "N对应码字为:1000\n",
      "A对应码字为:1010\n",
      "O对应码字为:1011\n",
      "T对应码字为:1100\n",
      "L对应码字为:10010\n",
      "D对应码字为:11010\n",
      "H对应码字为:11110\n",
      "S对应码字为:11111\n",
      "P对应码字为:100111\n",
      "M对应码字为:110110\n",
      "F对应码字为:111000\n",
      "U对应码字为:111001\n",
      "C对应码字为:111010\n",
      "V对应码字为:1001101\n",
      "B对应码字为:1101110\n",
      "G对应码字为:1101111\n",
      "W对应码字为:1110110\n",
      "Y对应码字为:1110111\n",
      "K对应码字为:10011000\n",
      "X对应码字为:100110010\n",
      "J对应码字为:1001100110\n",
      "Z对应码字为:10011001110\n",
      "Q对应码字为:10011001111\n",
      "-------------------------- \n",
      "\n",
      "请输入一个字符串:STRR\n",
      "输入字符串的编码结果为：\n",
      "STRR 被编码成: 11111110001100110\n",
      "\n",
      "请输入一个码序列:11111110001100110\n",
      "输入码序列的译码结果为:STRR\n",
      "\n"
     ]
    }
   ],
   "source": [
    "if __name__=='__main__':\n",
    "    dic = {' ':0.2, 'E':0.105, 'T':0.071, 'O':0.0644, 'A':0.063, 'N':0.059, 'I':0.054,\\\n",
    "      'R':0.053, 'S':0.052, 'H':0.047, 'D':0.035, 'L':0.029, 'C':0.023, 'F':0.0221, 'U':0.0225, 'M':0.021, 'P':0.0175,\\\n",
    "      'Y':0.012, 'W':0.012, 'G':0.011, 'B':0.0105, 'V':0.008, 'K':0.003, 'X':0.002, 'J':0.001, 'Q':0.001, 'Z':0.001}\n",
    "    #输入的是字符及其频数\n",
    "    #编码\n",
    "    \n",
    "    tree=HuffmanTree(dic)\n",
    "    tree.print_code_list(sort=True)\n",
    "    str_in = input('请输入一个字符串:')\n",
    "    encode(tree.huff_dic ,str_in)\n",
    "\n",
    "    # 译码\n",
    "    code_list = input(\"请输入一个码序列:\")\n",
    "    decode_huffman(code_list, tree.huff_dic)\n",
    "    \n",
    "    #print(tree.huff_dic)"
   ]
  },
  {
   "cell_type": "code",
   "execution_count": null,
   "id": "4613df28",
   "metadata": {},
   "outputs": [],
   "source": []
  },
  {
   "cell_type": "code",
   "execution_count": null,
   "id": "232c081d",
   "metadata": {},
   "outputs": [],
   "source": []
  },
  {
   "cell_type": "code",
   "execution_count": null,
   "id": "0a23809c",
   "metadata": {},
   "outputs": [],
   "source": []
  },
  {
   "cell_type": "code",
   "execution_count": null,
   "id": "39832e8e",
   "metadata": {},
   "outputs": [],
   "source": []
  },
  {
   "cell_type": "code",
   "execution_count": null,
   "id": "605728e7",
   "metadata": {},
   "outputs": [],
   "source": []
  },
  {
   "cell_type": "code",
   "execution_count": null,
   "id": "c097885e",
   "metadata": {},
   "outputs": [],
   "source": []
  }
 ],
 "metadata": {
  "kernelspec": {
   "display_name": "Python 3 (ipykernel)",
   "language": "python",
   "name": "python3"
  },
  "language_info": {
   "codemirror_mode": {
    "name": "ipython",
    "version": 3
   },
   "file_extension": ".py",
   "mimetype": "text/x-python",
   "name": "python",
   "nbconvert_exporter": "python",
   "pygments_lexer": "ipython3",
   "version": "3.10.5"
  }
 },
 "nbformat": 4,
 "nbformat_minor": 5
}
